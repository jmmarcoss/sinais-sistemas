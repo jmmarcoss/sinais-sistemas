{
 "cells": [
  {
   "cell_type": "markdown",
   "metadata": {
    "editable": false,
    "nbgrader": {
     "grade": false,
     "grade_id": "cell-14d398dee134f44b",
     "locked": true,
     "schema_version": 3,
     "solution": false,
     "task": false
    },
    "slideshow": {
     "slide_type": ""
    },
    "tags": []
   },
   "source": [
    "<div class=\"alert alert-info\">\n",
    "    \n",
    "<h1 style=\"color:#1a96f6;\"> <center> <b> \n",
    "Sinais e Sistemas\n",
    "</b> </center> </h1>\n",
    "    \n",
    "<h3 style=\"color:#1a96f6;\"> <center> <b> \n",
    "Lista de Exercícios - Transformações de sinais\n",
    "</b></center> </h3>\n",
    "    \n",
    "</div>"
   ]
  },
  {
   "cell_type": "markdown",
   "metadata": {},
   "source": [
    "<div class=\"alert alert-info\" style=\"color:#1a96f6;\">\n",
    "Introdução\n",
    "\n",
    "</div>"
   ]
  },
  {
   "cell_type": "markdown",
   "metadata": {},
   "source": [
    "Nessa atividade, trabalharemos o efeito de cada uma das operações com um sinal real, de áudio, analisando como implementar a saída em cada um dos casos e observando os efeitos de cada transformação.\n",
    "\n",
    "Vamos trabalhar, para esse processamento, com duas bibliotecas:"
   ]
  },
  {
   "cell_type": "code",
   "execution_count": null,
   "id": "c6c1fc61",
   "metadata": {},
   "outputs": [],
   "source": [
    "import scipy.io.wavfile as sw\n",
    "import IPython.display as Id\n",
    "import numpy as np\n",
    "import matplotlib.pyplot as plt\n",
    "%matplotlib inline"
   ]
  },
  {
   "cell_type": "markdown",
   "id": "fbbba292",
   "metadata": {},
   "source": [
    "A `scipy.io.wavfile` permite a leitura de um arquivo `.wav`, extraindo dele uma matriz com os valores das frequências e das intensidade de cada amostra do áudio.\n",
    "\n",
    "`IPython.display` permite que escutemos o áudio dentro do próprio notebook.\n",
    "\n",
    "Consideremos o áudio `zero.wav` como exemplo.\n",
    "\n",
    "Para ler o arquivo, usaremos"
   ]
  },
  {
   "cell_type": "code",
   "execution_count": null,
   "id": "8e742298",
   "metadata": {},
   "outputs": [],
   "source": [
    "fa,sinal = sw.read('data/atividade_8/zero.wav')"
   ]
  },
  {
   "cell_type": "markdown",
   "id": "7012c1f8",
   "metadata": {},
   "source": [
    "Aqui podemos ver que obtemos dois \"subprodutos\":\n",
    "\n",
    "* a frequência de amostragem $f_a$"
   ]
  },
  {
   "cell_type": "code",
   "execution_count": null,
   "id": "b185e98a",
   "metadata": {},
   "outputs": [],
   "source": [
    "fa"
   ]
  },
  {
   "cell_type": "markdown",
   "id": "87912b16",
   "metadata": {},
   "source": [
    "* e as medidas de intensidade do sinal em cada amostra"
   ]
  },
  {
   "cell_type": "code",
   "execution_count": null,
   "id": "f45d37b6",
   "metadata": {},
   "outputs": [],
   "source": [
    "sinal"
   ]
  },
  {
   "cell_type": "markdown",
   "id": "d8096230",
   "metadata": {},
   "source": [
    "Note que a variável `sinal` é uma matriz com duas colunas "
   ]
  },
  {
   "cell_type": "code",
   "execution_count": null,
   "id": "6a5b4a0b",
   "metadata": {},
   "outputs": [],
   "source": [
    "sinal.shape"
   ]
  },
  {
   "cell_type": "markdown",
   "id": "2c3525d5",
   "metadata": {},
   "source": [
    "Isso se dá porque a gravação é estéreo e, portanto, tem componentes direita e esquerda (chamamos cada componente dessas de canal)."
   ]
  },
  {
   "cell_type": "markdown",
   "id": "f77243ea",
   "metadata": {},
   "source": [
    "Podemos visualizar cada um desses canais como gráficos"
   ]
  },
  {
   "cell_type": "code",
   "execution_count": null,
   "id": "5f211457",
   "metadata": {},
   "outputs": [],
   "source": [
    "fig, axs = plt.subplots(1,2, figsize=(15, 3))\n",
    "axs[0].plot(sinal[:,0])\n",
    "axs[0].set_title('Canal esquerdo')\n",
    "axs[1].plot(sinal[:,1])\n",
    "axs[1].set_title('Canal direito')"
   ]
  },
  {
   "cell_type": "markdown",
   "id": "d870a554",
   "metadata": {},
   "source": [
    "E podemos ouví-lo também"
   ]
  },
  {
   "cell_type": "code",
   "execution_count": null,
   "id": "9d3f961a",
   "metadata": {},
   "outputs": [],
   "source": [
    "Id.Audio('data/atividade_8/zero.wav')"
   ]
  },
  {
   "cell_type": "markdown",
   "metadata": {},
   "source": [
    "___Uma questão: como ouvir o áudio de cada canal separadamente?___"
   ]
  },
  {
   "cell_type": "markdown",
   "metadata": {
    "editable": false,
    "slideshow": {
     "slide_type": ""
    },
    "tags": []
   },
   "source": [
    "<div class=\"alert alert-info\" style=\"color:#1a96f6;\">\n",
    "1. Analise o efeito das transformações sobre o sinal de áudio <b><em>zero.wav</em></b>, observando tanto os efeitos no gráfico do sinal, quando no próprio áudio. Para isso, plote os gráficos e mostre os áudios de cada transformação solicitada a seguir. \n",
    "</div>"
   ]
  },
  {
   "cell_type": "markdown",
   "metadata": {
    "editable": false,
    "slideshow": {
     "slide_type": ""
    },
    "tags": []
   },
   "source": [
    "a) <br>\n",
    "\n",
    "\\begin{equation}\n",
    "a \\cdot s(t)\n",
    "\\end{equation}"
   ]
  },
  {
   "cell_type": "code",
   "execution_count": null,
   "metadata": {
    "editable": true,
    "slideshow": {
     "slide_type": ""
    },
    "tags": []
   },
   "outputs": [],
   "source": [
    "sinal_A = np.copy(sinal)\n",
    "\n",
    "a = 4\n",
    "sinal_A[:, 0] = a * sinal[:, 0]\n",
    "\n",
    "fig, axs = plt.subplots(1,2, figsize=(15, 3))\n",
    "axs[0].plot(sinal_A[:,0])\n",
    "axs[0].set_title('Canal esquerdo')\n",
    "axs[1].plot(sinal_A[:,1])\n",
    "axs[1].set_title('Canal direito')\n",
    "\n",
    "sw.write('data/atividade_8/zero_A.wav', fa, sinal_A)\n",
    "Id.Audio('data/atividade_8/zero_A.wav')"
   ]
  },
  {
   "cell_type": "markdown",
   "id": "91a91210",
   "metadata": {},
   "source": [
    "b) <br>\n",
    "\n",
    "\\begin{equation}\n",
    "- s(t)\n",
    "\\end{equation}"
   ]
  },
  {
   "cell_type": "code",
   "execution_count": null,
   "metadata": {
    "editable": true,
    "slideshow": {
     "slide_type": ""
    },
    "tags": []
   },
   "outputs": [],
   "source": [
    "sinal_B = np.copy(sinal)\n",
    "\n",
    "a = -1\n",
    "sinal_B[:, 0] = a * sinal[:, 0]\n",
    "\n",
    "fig, axs = plt.subplots(1,2, figsize=(15, 3))\n",
    "axs[0].plot(sinal_B[:,0])\n",
    "axs[0].set_title('Canal esquerdo')\n",
    "axs[1].plot(sinal_B[:,1])\n",
    "axs[1].set_title('Canal direito')\n",
    "\n",
    "sw.write('data/atividade_8/zero_B.wav', fa, sinal_B)\n",
    "Id.Audio('data/atividade_8/zero_B.wav')"
   ]
  },
  {
   "cell_type": "markdown",
   "metadata": {
    "editable": false,
    "slideshow": {
     "slide_type": ""
    },
    "tags": []
   },
   "source": [
    "c) <br>\n",
    "\n",
    "\\begin{equation}\n",
    "x(t) + a\n",
    "\\end{equation}"
   ]
  },
  {
   "cell_type": "markdown",
   "id": "713d8095",
   "metadata": {},
   "source": []
  },
  {
   "cell_type": "code",
   "execution_count": null,
   "metadata": {
    "editable": true,
    "slideshow": {
     "slide_type": ""
    },
    "tags": []
   },
   "outputs": [],
   "source": [
    "sinal_C = np.copy(sinal)\n",
    "\n",
    "a = 20000\n",
    "sinal_C[:, 0] = a + sinal[:, 0]\n",
    "\n",
    "fig, axs = plt.subplots(1,2, figsize=(15, 3))\n",
    "axs[0].plot(sinal_C[:,0])\n",
    "axs[0].set_title('Canal esquerdo')\n",
    "axs[1].plot(sinal_C[:,1])\n",
    "axs[1].set_title('Canal direito')\n",
    "\n",
    "sw.write('data/atividade_8/zero_C.wav', fa, sinal_C)\n",
    "Id.Audio('data/atividade_8/zero_C.wav')"
   ]
  },
  {
   "cell_type": "markdown",
   "metadata": {
    "editable": false,
    "slideshow": {
     "slide_type": ""
    },
    "tags": []
   },
   "source": [
    "d) <br>\n",
    "\n",
    "\\begin{equation}\n",
    "x(t - t_0)\n",
    "\\end{equation}"
   ]
  },
  {
   "cell_type": "code",
   "execution_count": null,
   "metadata": {
    "editable": true,
    "slideshow": {
     "slide_type": ""
    },
    "tags": []
   },
   "outputs": [],
   "source": [
    "sinal_D = np.copy(sinal)\n",
    "\n",
    "t0 = 25000\n",
    "\n",
    "if t0 < len(sinal):\n",
    "    sinal_D[t0:, 0] = sinal[:-t0, 0]  \n",
    "    sinal_D[:t0, 0] = 0\n",
    "else:\n",
    "    sinal_D[:, 0] = 0\n",
    "\n",
    "fig, axs = plt.subplots(1,2, figsize=(15, 3))\n",
    "axs[0].plot(sinal_D[:,0])\n",
    "axs[0].set_title('Canal esquerdo')\n",
    "axs[1].plot(sinal_D[:,1])\n",
    "axs[1].set_title('Canal direito')\n",
    "\n",
    "sw.write('data/atividade_8/zero_D.wav', fa, sinal_D)\n",
    "Id.Audio('data/atividade_8/zero_D.wav')"
   ]
  },
  {
   "cell_type": "markdown",
   "metadata": {
    "editable": false,
    "slideshow": {
     "slide_type": ""
    },
    "tags": []
   },
   "source": [
    "e) <br>\n",
    "\n",
    "\\begin{equation}\n",
    "x(at)\n",
    "\\text{, com } a > 0 \\\\\n",
    "\\end{equation}"
   ]
  },
  {
   "cell_type": "code",
   "execution_count": null,
   "metadata": {
    "editable": true,
    "slideshow": {
     "slide_type": ""
    },
    "tags": []
   },
   "outputs": [],
   "source": [
    "sinal_E = np.copy(sinal)\n",
    "\n",
    "a = 3.0\n",
    "\n",
    "novo_tamanho = int(len(sinal) / a)\n",
    "\n",
    "sinal_E[:novo_tamanho, 0] = sinal[::int(a), 0]\n",
    "\n",
    "if novo_tamanho < len(sinal):\n",
    "    sinal_E[novo_tamanho:, 0] = 0\n",
    "\n",
    "fig, axs = plt.subplots(1,2, figsize=(15, 3))\n",
    "axs[0].plot(sinal_E[:,0])\n",
    "axs[0].set_title('Canal esquerdo')\n",
    "axs[1].plot(sinal_E[:,1])\n",
    "axs[1].set_title('Canal direito')\n",
    "\n",
    "sw.write('data/atividade_8/zero_E.wav', fa, sinal_E)\n",
    "Id.Audio('data/atividade_8/zero_E.wav')"
   ]
  },
  {
   "cell_type": "markdown",
   "metadata": {
    "editable": false,
    "slideshow": {
     "slide_type": ""
    },
    "tags": []
   },
   "source": [
    "f) <br>\n",
    "\n",
    "\\begin{equation}\n",
    "x(-t)\n",
    "\\end{equation}"
   ]
  },
  {
   "cell_type": "code",
   "execution_count": null,
   "metadata": {
    "editable": true,
    "slideshow": {
     "slide_type": ""
    },
    "tags": []
   },
   "outputs": [],
   "source": [
    "sinal_F = np.copy(sinal)\n",
    "\n",
    "sinal_F[:,0] = sinal_F[:,0][::-1]\n",
    "\n",
    "fig, axs = plt.subplots(1,2, figsize=(15, 3))\n",
    "axs[0].plot(sinal_F[:,0])\n",
    "axs[0].set_title('Canal esquerdo')\n",
    "axs[1].plot(sinal_F[:,1])\n",
    "axs[1].set_title('Canal direito')\n",
    "\n",
    "sw.write('data/atividade_8/zero_F.wav', fa, sinal_F)\n",
    "Id.Audio('data/atividade_8/zero_F.wav')"
   ]
  },
  {
   "cell_type": "markdown",
   "metadata": {},
   "source": [
    "<div class=\"alert alert-info\" style=\"color:#1a96f6;\">\n",
    "2. Grave um sinal de sua voz, com uma frase mais longa (mais que uma palavra, mas não tão longa) e realize as transformações acima para cada um dos canais do áudio obtido. Plote os gráficos e mostre os áudios de cada transformação, para cada canal.  \n",
    "    __Obs: lembre de subir o arquivo de áudio junto com o notebook!__\n",
    "</div>"
   ]
  },
  {
   "cell_type": "code",
   "execution_count": null,
   "metadata": {},
   "outputs": [],
   "source": []
  }
 ],
 "metadata": {
  "kernelspec": {
   "display_name": "Python 3 (ipykernel)",
   "language": "python",
   "name": "python3"
  },
  "language_info": {
   "codemirror_mode": {
    "name": "ipython",
    "version": 3
   },
   "file_extension": ".py",
   "mimetype": "text/x-python",
   "name": "python",
   "nbconvert_exporter": "python",
   "pygments_lexer": "ipython3",
   "version": "3.8.19"
  }
 },
 "nbformat": 4,
 "nbformat_minor": 5
}
